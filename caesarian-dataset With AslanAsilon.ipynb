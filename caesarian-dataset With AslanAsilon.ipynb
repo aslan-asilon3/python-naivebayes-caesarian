{
 "cells": [
  {
   "cell_type": "code",
   "execution_count": 41,
   "id": "9f32b0d8",
   "metadata": {},
   "outputs": [
    {
     "name": "stdout",
     "output_type": "stream",
     "text": [
      "<class 'pandas.core.frame.DataFrame'>\n",
      "RangeIndex: 80 entries, 0 to 79\n",
      "Data columns (total 6 columns):\n",
      " #   Column          Non-Null Count  Dtype\n",
      "---  ------          --------------  -----\n",
      " 0   Age             80 non-null     int64\n",
      " 1   Dev_number      80 non-null     int64\n",
      " 2   Dev_time        80 non-null     int64\n",
      " 3   Blood_pressure  80 non-null     int64\n",
      " 4   Hearth_problem  80 non-null     int64\n",
      " 5   Caesarian       80 non-null     int64\n",
      "dtypes: int64(6)\n",
      "memory usage: 3.9 KB\n",
      "              precision    recall  f1-score   support\n",
      "\n",
      "           0       0.50      0.56      0.53         9\n",
      "           1       0.33      0.29      0.31         7\n",
      "\n",
      "    accuracy                           0.44        16\n",
      "   macro avg       0.42      0.42      0.42        16\n",
      "weighted avg       0.43      0.44      0.43        16\n",
      "\n"
     ]
    }
   ],
   "source": [
    "#import library\n",
    "\n",
    "import numpy as np\n",
    "import pandas as pd\n",
    "\n",
    "#import dataset\n",
    "caesarian = pd.read_csv(\"caesarian.csv\")\n",
    "\n",
    "#tampilkan data\n",
    "caesarian.head(5)\n",
    "\n",
    "#info dataset caesarian\n",
    "caesarian.info()\n",
    "\n",
    "#menentukan variabel dependent dan variabel independent\n",
    "\n",
    "#variabel independent\n",
    "x = caesarian.drop([\"Caesarian\"], axis = 1)\n",
    "#variabel dependent\n",
    "y = caesarian[\"Caesarian\"]\n",
    "\n",
    "#import library scikit-learn\n",
    "from sklearn.model_selection import train_test_split\n",
    "\n",
    "#proses training\n",
    "x_train, x_test, y_train, y_test = train_test_split(x, y, test_size= 0.2, random_state = 123)\n",
    "\n",
    "#melihat data testing\n",
    "x_test\n",
    "\n",
    "#fungsi klasifikasi\n",
    "from sklearn.naive_bayes import GaussianNB\n",
    "modelnb = GaussianNB()\n",
    "\n",
    "#memasukan data training dan fungsi klasifikasi dgn naive bayes\n",
    "nbtrain = modelnb.fit(x_train, y_train)\n",
    "\n",
    "# hasil prediksi\n",
    "y_pred = nbtrain.predict(x_test)\n",
    "y_pred\n",
    "\n",
    "#bandingkan dengan nilai testing sebenarnya\n",
    "np.array (y_test)\n",
    "\n",
    "# nilai probabilitas dari hasil prediksi\n",
    "nbtrain.predict_proba(x_test)\n",
    "\n",
    "#membuat confusion matrix\n",
    "from sklearn.metrics import confusion_matrix\n",
    "confusion_matrix(y_test, y_pred)\n",
    "\n",
    "#nilai akurasi\n",
    "from sklearn.metrics import classification_report\n",
    "print(classification_report(y_test, y_pred))\n"
   ]
  },
  {
   "cell_type": "code",
   "execution_count": null,
   "id": "57911fc0",
   "metadata": {},
   "outputs": [],
   "source": []
  }
 ],
 "metadata": {
  "kernelspec": {
   "display_name": "Python 3 (ipykernel)",
   "language": "python",
   "name": "python3"
  },
  "language_info": {
   "codemirror_mode": {
    "name": "ipython",
    "version": 3
   },
   "file_extension": ".py",
   "mimetype": "text/x-python",
   "name": "python",
   "nbconvert_exporter": "python",
   "pygments_lexer": "ipython3",
   "version": "3.9.7"
  }
 },
 "nbformat": 4,
 "nbformat_minor": 5
}
